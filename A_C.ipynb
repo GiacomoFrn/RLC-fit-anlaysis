{
 "cells": [
  {
   "cell_type": "code",
   "execution_count": 9,
   "metadata": {},
   "outputs": [],
   "source": [
    "import numpy as np\n",
    "import matplotlib.pyplot as plt\n",
    "from matplotlib import rc\n",
    "rc('text', usetex=True)\n",
    "from scipy import optimize\n",
    "from numpy import e\n",
    "from numpy import cos\n",
    "from numpy import sin\n",
    "from numpy import diag\n",
    "from numpy import sqrt\n",
    "from numpy import pi\n"
   ]
  },
  {
   "cell_type": "code",
   "execution_count": 10,
   "metadata": {},
   "outputs": [],
   "source": [
    "f_kHz = [ 5, 6, 7, 8, 9, 10, 11, 12, 13, 14, 15, 16, 17, 18, 19, 20, 21, 22, 23, 24, 25, 26, 27, 28, 29, 30, 31, 32, 33, 34, 35, 36, 37, 38, 39, 40, 41, 42, 43, 44, 45, 46, 47, 48, 49, 50] \n",
    "A = [ 1.11027, 1.16451, 1.22119, 1.29781, 1.3926, 1.52568, 1.68831, 1.9349, 2.20408, 2.7204, 3.20359, 3.5034, 3.31507, 2.85174, 2.3168, 1.86024, 1.55604, 1.27545, 1.08582, 0.940351, 0.826307, 0.738636, 0.649452, 0.583082, 0.529674, 0.487591, 0.454015, 0.413199, 0.382768, 0.354342, 0.336111, 0.321038, 0.290984, 0.274084, 0.25572, 0.240915, 0.230975, 0.213245, 0.211842, 0.197368, 0.189474, 0.180157, 0.165796, 0.165796, 0.156736, 0.148964] \n",
    "sA = [ 0.0237977, 0.0249608, 0.0261773, 0.027824, 0.0298659, 0.0327424, 0.0362706, 0.0416532, 0.0475935, 0.0591858, 0.0703241, 0.0775937, 0.0734912, 0.062881, 0.0507147, 0.0405109, 0.03381, 0.0276759, 0.0235611, 0.0204134, 0.0179654, 0.0160845, 0.0141805, 0.0127632, 0.0116354, 0.0107486, 0.0100542, 0.0091999, 0.00856393, 0.00797838, 0.00760216, 0.00728351, 0.00668288, 0.00634177, 0.00597324, 0.00568575, 0.0054855, 0.00513863, 0.00510449, 0.00483295, 0.00468678, 0.00450627, 0.00424776, 0.00424776, 0.00407734, 0.00394241] "
   ]
  },
  {
   "cell_type": "code",
   "execution_count": 11,
   "metadata": {},
   "outputs": [],
   "source": [
    "\n",
    "def fitfunc(x,B,R,L,C):\n",
    "    w0=1E-3/(sqrt(L*C)*2*pi)\n",
    "    Q=sqrt(L/C)/R\n",
    "    return B/sqrt((1-x**2/w0**2)**2+x**2/(Q**2*w0**2))\n",
    "\n",
    "p_init = [1 ,28,0.00084,104.5E-9] # valori iniziali \n",
    "\n",
    "p_best, pcov = optimize.curve_fit(\n",
    "    fitfunc, f_kHz, A,          # assegno funzione di fit, ascisse e ordinate\n",
    "    sigma=sA,                     # assegno gli errori sulle ordinate\n",
    "    p0=p_init, bounds=(0, +np.inf) # imposto i valori iniziali dei parametri e\n",
    ")      # intervalli ammessi [0, +∞)\n"
   ]
  },
  {
   "cell_type": "code",
   "execution_count": 12,
   "metadata": {},
   "outputs": [
    {
     "name": "stdout",
     "output_type": "stream",
     "text": [
      "---------------------------\n",
      "Best fit values without errors\n",
      "---------------------------\n",
      "B = 1.0800623375462122  +-  0.011505539085234611\n",
      "R = 30.186225486262448  +-  2.2745052512258113 Ohm\n",
      "L = 0.0008655734608577519  +-  4.635848440631321e-05 H\n",
      "C = 1.0161110406957176e-07  +-  6.670401224826879e-09 F\n",
      "---------------------------\n"
     ]
    },
    {
     "data": {
      "image/png": "[encoded data removed]",
      "text/plain": [
       "<Figure size 432x288 with 1 Axes>"
      ]
     },
     "metadata": {
      "needs_background": "light"
     },
     "output_type": "display_data"
    }
   ],
   "source": [
    "print(\"---------------------------\")\n",
    "print(\"Best fit values without errors\")\n",
    "print(\"---------------------------\")\n",
    "print(\"B =\", p_best[0],\" +- \",sqrt(diag(pcov)[0]))\n",
    "print(\"R =\", p_best[1],\" +- \",sqrt(diag(pcov)[1]), \"Ohm\")\n",
    "print(\"L =\", p_best[2],\" +- \",sqrt(diag(pcov)[2]), \"H\")\n",
    "print(\"C =\", p_best[3],\" +- \",sqrt(diag(pcov)[3]),\"F\")\n",
    "print(\"---------------------------\")\n",
    "fig=plt.figure()\n",
    "plt.grid(linestyle='--')\n",
    "plt.rc('text', usetex=True)\n",
    "plt.errorbar(f_kHz, A, yerr=sA, fmt='.', label='dati')\n",
    "_pts = np.linspace(f_kHz[0], f_kHz[-1],100000)\n",
    "plt.plot(_pts, fitfunc(_pts, *p_best), label=\"fit\",linewidth=3.0)\n",
    "plt.title(\"$A_C $\")\n",
    "plt.xlabel(\"$f$ ($ kHz$)\")\n",
    "plt.ylabel(\"$A_C$\")\n",
    "plt.legend();\n",
    "#fig.savefig('fitnosigma_rlr.pdf')"
   ]
  },
  {
   "cell_type": "code",
   "execution_count": 17,
   "metadata": {},
   "outputs": [
    {
     "name": "stdout",
     "output_type": "stream",
     "text": [
      "170.62192458847562\n"
     ]
    }
   ],
   "source": [
    "res = []\n",
    "chisqv=0\n",
    "sigmasq=0\n",
    "for i in range (0,len(A)):\n",
    "    res.insert(i,A[i]-fitfunc(f_kHz[i], *p_best))\n",
    "    sigmasq+=(res[i])**2\n",
    "    chisqv+=(res[i]/sA[i])**2\n",
    "sigma_A=np.full(len(A),sqrt(sigmasq/(len(A)-3)))\n",
    "print(chisqv)"
   ]
  },
  {
   "cell_type": "code",
   "execution_count": 18,
   "metadata": {},
   "outputs": [
    {
     "data": {
      "image/png": "[encoded data removed]",
      "text/plain": [
       "<Figure size 432x288 with 1 Axes>"
      ]
     },
     "metadata": {
      "needs_background": "light"
     },
     "output_type": "display_data"
    }
   ],
   "source": [
    "plt.figure(1)\n",
    "plt.errorbar(f_kHz, res, yerr=sA, fmt='.')\n",
    "plt.axhline(0, color='r')\n",
    "plt.title(\"$A_C $\")\n",
    "plt.xlabel(\"$f$ ($ kHz$)\")\n",
    "plt.ylabel(\"$A_C$\")\n",
    "plt.show()"
   ]
  },
  {
   "cell_type": "code",
   "execution_count": null,
   "metadata": {},
   "outputs": [
    {
     "data": {
      "text/plain": [
       "<matplotlib.lines.Line2D at 0x2a56e49d608>"
      ]
     },
     "execution_count": 21,
     "metadata": {},
     "output_type": "execute_result"
    }
   ],
   "source": [
    "import matplotlib.pyplot as plt\n",
    "def fitfuncplot(x,L,C):\n",
    "    B=p_best[0]\n",
    "    R=p_best[1]\n",
    "    w0=1E-3/(sqrt(L*C)*2*pi)\n",
    "    Q=sqrt(L/C)/R\n",
    "    return B/sqrt((1-x**2/w0**2)**2+x**2/(Q**2*w0**2))\n",
    "def chisquared(L,C):\n",
    "    chisq=0\n",
    "    for i in range (0,len(A)):\n",
    "        chisq+=((A[i]-fitfuncplot(f_kHz[i],L,C))/sA[i])**2\n",
    "    return chisq\n",
    "fig=plt.figure()\n",
    "y=np.linspace(90E-9,110E-9,10)\n",
    "x=np.linspace(0.84E-3,0.93E-3,10)\n",
    "#y=np.linspace(52,56,10)\n",
    "z = np.array([chisquared(i,j) for j in y for i in x])\n",
    "X, Y = np.meshgrid(x, y)\n",
    "Z = z.reshape(10, 10)\n",
    "plt.contourf(X, Y, Z,50,vmin=0,vmax=1500,cmap='nipy_spectral')\n",
    "fig.suptitle(' $\\chi ^2 (L,C)$ ')\n",
    "plt.xlabel('$L$ $(H)$')\n",
    "#plt.ylabel('$R$ ($\\Omega$)')\n",
    "plt.ylabel('$C$ $(F)$')\n",
    "plt.colorbar()\n",
    "plt.axvline(p_best[2], color='g')\n",
    "plt.axhline(p_best[3], color='g')\n",
    "plt.axvline(p_best[2]+sqrt(diag(pcov)[2]),color='g',linestyle='--')\n",
    "plt.axvline(p_best[2]-sqrt(diag(pcov)[2]),color='g',linestyle='--')\n",
    "plt.axhline(p_best[3]+sqrt(diag(pcov)[3]),color='g',linestyle='--')\n",
    "plt.axhline(p_best[3]-sqrt(diag(pcov)[3]),color='g',linestyle='--')\n",
    "#fig.savefig('chisqLCrlr.pdf')"
   ]
  },
  {
   "cell_type": "code",
   "execution_count": null,
   "metadata": {},
   "outputs": [],
   "source": []
  }
 ],
 "metadata": {
  "kernelspec": {
   "display_name": "Python 3",
   "language": "python",
   "name": "python3"
  },
  "language_info": {
   "codemirror_mode": {
    "name": "ipython",
    "version": 3
   },
   "file_extension": ".py",
   "mimetype": "text/x-python",
   "name": "python",
   "nbconvert_exporter": "python",
   "pygments_lexer": "ipython3",
   "version": "3.7.6"
  }
 },
 "nbformat": 4,
 "nbformat_minor": 4
}
